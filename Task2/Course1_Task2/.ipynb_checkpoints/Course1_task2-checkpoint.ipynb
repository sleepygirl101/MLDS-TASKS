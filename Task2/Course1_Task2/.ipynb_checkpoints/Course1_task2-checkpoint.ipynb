{
 "cells": [
  {
   "cell_type": "markdown",
   "id": "b43cb5f7",
   "metadata": {},
   "source": [
    "## 1. Displaying float number with 2 dec places"
   ]
  },
  {
   "cell_type": "code",
   "execution_count": 45,
   "id": "bbdb448f",
   "metadata": {},
   "outputs": [
    {
     "name": "stdout",
     "output_type": "stream",
     "text": [
      "Enter a floating point number: 3.1568\n",
      "3.16\n"
     ]
    }
   ],
   "source": [
    "a = float(input(\"Enter a floating point number: \"))\n",
    "print(\"{:.2f}\".format(a))"
   ]
  },
  {
   "cell_type": "markdown",
   "id": "a516f32b",
   "metadata": {},
   "source": [
    "## 2. Accepting list of floats and display"
   ]
  },
  {
   "cell_type": "code",
   "execution_count": 46,
   "id": "ba209b7d",
   "metadata": {},
   "outputs": [
    {
     "name": "stdout",
     "output_type": "stream",
     "text": [
      "How many floating point numbers you want to add on list:3\n",
      "Enter float number 1: 3.012\n",
      "Enter float number 2: 20.12\n",
      "Enter float number 3: 5.23\n",
      "[3.012, 20.12, 5.23]\n"
     ]
    }
   ],
   "source": [
    "l = []\n",
    "n = int(input(\"How many floating point numbers you want to add on list:\"))\n",
    "for i in range(n):\n",
    "    l.append(float(input(\"Enter float number \"+str(i+1)+\": \")))\n",
    "print(l)"
   ]
  },
  {
   "cell_type": "markdown",
   "id": "7e1e9843",
   "metadata": {},
   "source": [
    "## 3. Printing 1st n natural numbers using while loop"
   ]
  },
  {
   "cell_type": "code",
   "execution_count": 49,
   "id": "d0cbcd7c",
   "metadata": {},
   "outputs": [
    {
     "name": "stdout",
     "output_type": "stream",
     "text": [
      "Enter n: 10\n",
      "1 2 3 4 5 6 7 8 9 10 "
     ]
    }
   ],
   "source": [
    "n = int(input(\"Enter n: \"))\n",
    "i=1\n",
    "while(i<=n):\n",
    "    print(i, end = \" \")\n",
    "    i+=1"
   ]
  },
  {
   "cell_type": "markdown",
   "id": "a6ee7e3c",
   "metadata": {},
   "source": [
    "## 4. Displaying numbers from -n to -1 using for loop"
   ]
  },
  {
   "cell_type": "code",
   "execution_count": 50,
   "id": "12cc7aad",
   "metadata": {},
   "outputs": [
    {
     "name": "stdout",
     "output_type": "stream",
     "text": [
      "Enter n: 9\n",
      "-9\n",
      "-8\n",
      "-7\n",
      "-6\n",
      "-5\n",
      "-4\n",
      "-3\n",
      "-2\n",
      "-1\n"
     ]
    }
   ],
   "source": [
    "n = int(input(\"Enter n: \"))\n",
    "for i in range(-n,0,1):\n",
    "    print(i)"
   ]
  },
  {
   "cell_type": "markdown",
   "id": "74cbd50c",
   "metadata": {},
   "source": [
    "## 5. Counting total number of digits in a number"
   ]
  },
  {
   "cell_type": "code",
   "execution_count": 51,
   "id": "14c8edb1",
   "metadata": {},
   "outputs": [
    {
     "name": "stdout",
     "output_type": "stream",
     "text": [
      "Enter a number: 1235648\n",
      "Digit count:  7\n"
     ]
    }
   ],
   "source": [
    "n = int(input(\"Enter a number: \"))\n",
    "print(\"Digit count: \",len(str(n)))"
   ]
  },
  {
   "cell_type": "markdown",
   "id": "cdd1da0f",
   "metadata": {},
   "source": [
    "## 6. Factorial"
   ]
  },
  {
   "cell_type": "code",
   "execution_count": 52,
   "id": "83dad9fe",
   "metadata": {},
   "outputs": [
    {
     "name": "stdout",
     "output_type": "stream",
     "text": [
      "Enter a number: 5\n",
      "120\n"
     ]
    }
   ],
   "source": [
    "n = int(input(\"Enter a number: \"))\n",
    "def fact(n):\n",
    "    if n==0:\n",
    "        return 1\n",
    "    else:\n",
    "        return n * fact(n-1)\n",
    "        \n",
    "print(fact(n))"
   ]
  },
  {
   "cell_type": "markdown",
   "id": "ed6afac4",
   "metadata": {},
   "source": [
    "## 7. Number triangle"
   ]
  },
  {
   "cell_type": "code",
   "execution_count": 53,
   "id": "486b1d1e",
   "metadata": {},
   "outputs": [
    {
     "name": "stdout",
     "output_type": "stream",
     "text": [
      "1 \n",
      "1 2 \n",
      "1 2 3 \n",
      "1 2 3 4 \n",
      "1 2 3 4 5 \n"
     ]
    }
   ],
   "source": [
    "for i in range(1,6,1):\n",
    "    for j in range(1,i+1,1):\n",
    "        print(j, end = \" \")\n",
    "    print(\"\\n\", end = \"\")"
   ]
  }
 ],
 "metadata": {
  "kernelspec": {
   "display_name": "Python 3 (ipykernel)",
   "language": "python",
   "name": "python3"
  },
  "language_info": {
   "codemirror_mode": {
    "name": "ipython",
    "version": 3
   },
   "file_extension": ".py",
   "mimetype": "text/x-python",
   "name": "python",
   "nbconvert_exporter": "python",
   "pygments_lexer": "ipython3",
   "version": "3.10.10"
  }
 },
 "nbformat": 4,
 "nbformat_minor": 5
}
