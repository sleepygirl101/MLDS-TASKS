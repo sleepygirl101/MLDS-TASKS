{
 "cells": [
  {
   "cell_type": "markdown",
   "id": "0c1c6030",
   "metadata": {},
   "source": [
    "## 1. Keeping the 1st,middle and last character of an input string"
   ]
  },
  {
   "cell_type": "code",
   "execution_count": 44,
   "id": "896c419b",
   "metadata": {},
   "outputs": [
    {
     "name": "stdout",
     "output_type": "stream",
     "text": [
      "Enter input string: abcdef\n",
      "adf\n"
     ]
    }
   ],
   "source": [
    "def my_func(s):\n",
    "    return s[0] + s[len(s)//2] + s[-1]\n",
    "\n",
    "print(my_func(input(\"Enter input string: \")))"
   ]
  },
  {
   "cell_type": "markdown",
   "id": "3221445b",
   "metadata": {},
   "source": [
    "## 2. Arrange string characters"
   ]
  },
  {
   "cell_type": "code",
   "execution_count": 46,
   "id": "352c7601",
   "metadata": {},
   "outputs": [
    {
     "name": "stdout",
     "output_type": "stream",
     "text": [
      "Enter input string: HellowOrlD\n",
      "wrollleOHD\n"
     ]
    }
   ],
   "source": [
    "def my_func(s):\n",
    "    res = \"\".join(sorted(s))\n",
    "    return res[::-1]\n",
    "\n",
    "print(my_func(input(\"Enter input string: \"))) "
   ]
  },
  {
   "cell_type": "markdown",
   "id": "59215cf3",
   "metadata": {},
   "source": [
    "## 3. Count all letters, digits, special symbols"
   ]
  },
  {
   "cell_type": "code",
   "execution_count": 31,
   "id": "1036e2d9",
   "metadata": {},
   "outputs": [
    {
     "name": "stdout",
     "output_type": "stream",
     "text": [
      "Enter a string: P@#yn26at^&i5ve\n",
      "Characters :  8, Digits : 3,  Symbols : 4 \n"
     ]
    }
   ],
   "source": [
    "def check(s):\n",
    "    ch = 0\n",
    "    dgt = 0\n",
    "    sym = 0\n",
    "    for character in s:\n",
    "        if character.isalpha() == True:\n",
    "            ch += 1\n",
    "            \n",
    "        elif character.isdigit() == True:\n",
    "            dgt += 1\n",
    "            \n",
    "        else:\n",
    "            sym += 1\n",
    "    print(f\"Characters :  {ch}, Digits : {dgt},  Symbols : {sym} \")\n",
    "check(input(\"Enter a string: \"))\n"
   ]
  },
  {
   "cell_type": "markdown",
   "id": "ca7f289d",
   "metadata": {},
   "source": [
    "## 4. Split a string on hyphens"
   ]
  },
  {
   "cell_type": "code",
   "execution_count": 34,
   "id": "3595e90c",
   "metadata": {},
   "outputs": [
    {
     "name": "stdout",
     "output_type": "stream",
     "text": [
      "Enter a string with hyphens: This-is-a-string-to-split\n",
      "This\n",
      "is\n",
      "a\n",
      "string\n",
      "to\n",
      "split\n"
     ]
    }
   ],
   "source": [
    "def spliting(s):\n",
    "    x = s.split(\"-\")\n",
    "    for i in x:\n",
    "        print(i)\n",
    "spliting(input('Enter a string with hyphens: '))    "
   ]
  },
  {
   "cell_type": "markdown",
   "id": "d69c3ae9",
   "metadata": {},
   "source": [
    "## 5. Reverse a given string"
   ]
  },
  {
   "cell_type": "code",
   "execution_count": 36,
   "id": "fab1d23d",
   "metadata": {},
   "outputs": [
    {
     "name": "stdout",
     "output_type": "stream",
     "text": [
      "Enter a string to reverse: The quick Brown Fox.\n",
      ".xoF nworB kciuq ehT\n"
     ]
    }
   ],
   "source": [
    "def reverse(s):\n",
    "    s = s[::-1]\n",
    "    return s\n",
    "\n",
    "print(reverse(input(\"Enter a string to reverse: \")))"
   ]
  },
  {
   "cell_type": "markdown",
   "id": "305936a0",
   "metadata": {},
   "source": [
    "## 6. Create a function that can add unlimited numbers"
   ]
  },
  {
   "cell_type": "code",
   "execution_count": 40,
   "id": "1c8944df",
   "metadata": {},
   "outputs": [
    {
     "name": "stdout",
     "output_type": "stream",
     "text": [
      "summation :  6\n"
     ]
    }
   ],
   "source": [
    "def add(n, *args):\n",
    "    summ = n\n",
    "    for i in args:\n",
    "        summ += i\n",
    "    print(\"summation : \", summ)\n",
    "\n",
    "add(1,2,3)"
   ]
  },
  {
   "cell_type": "code",
   "execution_count": null,
   "id": "a8711123",
   "metadata": {},
   "outputs": [],
   "source": []
  },
  {
   "cell_type": "code",
   "execution_count": null,
   "id": "910978f2",
   "metadata": {},
   "outputs": [],
   "source": []
  }
 ],
 "metadata": {
  "kernelspec": {
   "display_name": "Python 3 (ipykernel)",
   "language": "python",
   "name": "python3"
  },
  "language_info": {
   "codemirror_mode": {
    "name": "ipython",
    "version": 3
   },
   "file_extension": ".py",
   "mimetype": "text/x-python",
   "name": "python",
   "nbconvert_exporter": "python",
   "pygments_lexer": "ipython3",
   "version": "3.10.10"
  }
 },
 "nbformat": 4,
 "nbformat_minor": 5
}
