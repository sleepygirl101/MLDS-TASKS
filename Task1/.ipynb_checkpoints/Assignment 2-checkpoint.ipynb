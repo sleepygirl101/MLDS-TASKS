{
 "cells": [
  {
   "cell_type": "code",
   "execution_count": 1,
   "id": "c0962a04",
   "metadata": {},
   "outputs": [
    {
     "name": "stdout",
     "output_type": "stream",
     "text": [
      "Collecting pandas\n",
      "  Downloading pandas-1.5.3-cp310-cp310-win_amd64.whl (10.4 MB)\n",
      "     ---------------------------------------- 10.4/10.4 MB 9.5 MB/s eta 0:00:00\n",
      "Requirement already satisfied: python-dateutil>=2.8.1 in c:\\users\\sgsun\\appdata\\local\\programs\\python\\python310\\lib\\site-packages (from pandas) (2.8.2)\n",
      "Requirement already satisfied: numpy>=1.21.0 in c:\\users\\sgsun\\appdata\\local\\programs\\python\\python310\\lib\\site-packages (from pandas) (1.24.2)\n",
      "Collecting pytz>=2020.1\n",
      "  Downloading pytz-2022.7.1-py2.py3-none-any.whl (499 kB)\n",
      "     ------------------------------------- 499.4/499.4 kB 10.4 MB/s eta 0:00:00\n",
      "Requirement already satisfied: six>=1.5 in c:\\users\\sgsun\\appdata\\local\\programs\\python\\python310\\lib\\site-packages (from python-dateutil>=2.8.1->pandas) (1.16.0)\n",
      "Installing collected packages: pytz, pandas\n",
      "Successfully installed pandas-1.5.3 pytz-2022.7.1\n"
     ]
    },
    {
     "name": "stderr",
     "output_type": "stream",
     "text": [
      "\n",
      "[notice] A new release of pip available: 22.3.1 -> 23.0.1\n",
      "[notice] To update, run: python.exe -m pip install --upgrade pip\n"
     ]
    }
   ],
   "source": [
    "!pip install pandas"
   ]
  },
  {
   "cell_type": "code",
   "execution_count": 2,
   "id": "185ce983",
   "metadata": {},
   "outputs": [],
   "source": [
    "import numpy as np\n",
    "import pandas as pd"
   ]
  },
  {
   "cell_type": "code",
   "execution_count": 3,
   "id": "9e9b5e60",
   "metadata": {},
   "outputs": [],
   "source": [
    "df = pd.read_csv(\"datasets\\wine.csv\")"
   ]
  },
  {
   "cell_type": "code",
   "execution_count": 4,
   "id": "b09cb949",
   "metadata": {},
   "outputs": [
    {
     "data": {
      "text/html": [
       "<div>\n",
       "<style scoped>\n",
       "    .dataframe tbody tr th:only-of-type {\n",
       "        vertical-align: middle;\n",
       "    }\n",
       "\n",
       "    .dataframe tbody tr th {\n",
       "        vertical-align: top;\n",
       "    }\n",
       "\n",
       "    .dataframe thead th {\n",
       "        text-align: right;\n",
       "    }\n",
       "</style>\n",
       "<table border=\"1\" class=\"dataframe\">\n",
       "  <thead>\n",
       "    <tr style=\"text-align: right;\">\n",
       "      <th></th>\n",
       "      <th>Unnamed: 0</th>\n",
       "      <th>item_code</th>\n",
       "      <th>item_name</th>\n",
       "      <th>display_level</th>\n",
       "      <th>selectable</th>\n",
       "      <th>sort_sequence</th>\n",
       "    </tr>\n",
       "  </thead>\n",
       "  <tbody>\n",
       "    <tr>\n",
       "      <th>0</th>\n",
       "      <td>0</td>\n",
       "      <td>AA0</td>\n",
       "      <td>All items - old base</td>\n",
       "      <td>0</td>\n",
       "      <td>T</td>\n",
       "      <td>2</td>\n",
       "    </tr>\n",
       "    <tr>\n",
       "      <th>1</th>\n",
       "      <td>1</td>\n",
       "      <td>AA0R</td>\n",
       "      <td>Purchasing power of the consumer dollar - old ...</td>\n",
       "      <td>0</td>\n",
       "      <td>T</td>\n",
       "      <td>400</td>\n",
       "    </tr>\n",
       "    <tr>\n",
       "      <th>2</th>\n",
       "      <td>2</td>\n",
       "      <td>SA0</td>\n",
       "      <td>All items</td>\n",
       "      <td>0</td>\n",
       "      <td>T</td>\n",
       "      <td>1</td>\n",
       "    </tr>\n",
       "    <tr>\n",
       "      <th>3</th>\n",
       "      <td>3</td>\n",
       "      <td>SA0E</td>\n",
       "      <td>Energy</td>\n",
       "      <td>1</td>\n",
       "      <td>T</td>\n",
       "      <td>375</td>\n",
       "    </tr>\n",
       "    <tr>\n",
       "      <th>4</th>\n",
       "      <td>4</td>\n",
       "      <td>SA0L1</td>\n",
       "      <td>All items less food</td>\n",
       "      <td>1</td>\n",
       "      <td>T</td>\n",
       "      <td>359</td>\n",
       "    </tr>\n",
       "    <tr>\n",
       "      <th>5</th>\n",
       "      <td>5</td>\n",
       "      <td>SA0L12</td>\n",
       "      <td>All items less food and shelter</td>\n",
       "      <td>1</td>\n",
       "      <td>T</td>\n",
       "      <td>362</td>\n",
       "    </tr>\n",
       "    <tr>\n",
       "      <th>6</th>\n",
       "      <td>6</td>\n",
       "      <td>SA0L12E</td>\n",
       "      <td>All items less food, shelter, and energy</td>\n",
       "      <td>1</td>\n",
       "      <td>T</td>\n",
       "      <td>363</td>\n",
       "    </tr>\n",
       "    <tr>\n",
       "      <th>7</th>\n",
       "      <td>7</td>\n",
       "      <td>SA0L12E4</td>\n",
       "      <td>All items less food, shelter, energy, and used...</td>\n",
       "      <td>1</td>\n",
       "      <td>T</td>\n",
       "      <td>364</td>\n",
       "    </tr>\n",
       "  </tbody>\n",
       "</table>\n",
       "</div>"
      ],
      "text/plain": [
       "   Unnamed: 0 item_code                                          item_name  \\\n",
       "0           0       AA0                               All items - old base   \n",
       "1           1      AA0R  Purchasing power of the consumer dollar - old ...   \n",
       "2           2       SA0                                          All items   \n",
       "3           3      SA0E                                             Energy   \n",
       "4           4     SA0L1                                All items less food   \n",
       "5           5    SA0L12                    All items less food and shelter   \n",
       "6           6   SA0L12E           All items less food, shelter, and energy   \n",
       "7           7  SA0L12E4  All items less food, shelter, energy, and used...   \n",
       "\n",
       "   display_level selectable  sort_sequence  \n",
       "0              0          T              2  \n",
       "1              0          T            400  \n",
       "2              0          T              1  \n",
       "3              1          T            375  \n",
       "4              1          T            359  \n",
       "5              1          T            362  \n",
       "6              1          T            363  \n",
       "7              1          T            364  "
      ]
     },
     "execution_count": 4,
     "metadata": {},
     "output_type": "execute_result"
    }
   ],
   "source": [
    "df.head(8)"
   ]
  },
  {
   "cell_type": "code",
   "execution_count": 5,
   "id": "c607755f",
   "metadata": {},
   "outputs": [
    {
     "data": {
      "text/plain": [
       "6    363\n",
       "Name: sort_sequence, dtype: int64"
      ]
     },
     "metadata": {},
     "output_type": "display_data"
    }
   ],
   "source": [
    "display(df.iloc[6:7,-1])"
   ]
  },
  {
   "cell_type": "markdown",
   "id": "7297e1ef",
   "metadata": {},
   "source": [
    "# Pickling"
   ]
  },
  {
   "cell_type": "code",
   "execution_count": 6,
   "id": "961c739f",
   "metadata": {},
   "outputs": [],
   "source": [
    "df_temp = df.iloc[0:10]\n",
    "df_pickle = df_temp.to_pickle('datasets\\df_temp')"
   ]
  },
  {
   "cell_type": "code",
   "execution_count": null,
   "id": "c6d67163",
   "metadata": {},
   "outputs": [],
   "source": []
  }
 ],
 "metadata": {
  "kernelspec": {
   "display_name": "Python 3 (ipykernel)",
   "language": "python",
   "name": "python3"
  },
  "language_info": {
   "codemirror_mode": {
    "name": "ipython",
    "version": 3
   },
   "file_extension": ".py",
   "mimetype": "text/x-python",
   "name": "python",
   "nbconvert_exporter": "python",
   "pygments_lexer": "ipython3",
   "version": "3.10.10"
  }
 },
 "nbformat": 4,
 "nbformat_minor": 5
}
