{
 "cells": [
  {
   "cell_type": "markdown",
   "id": "1abde5c7",
   "metadata": {},
   "source": [
    "# Problem 1"
   ]
  },
  {
   "cell_type": "code",
   "execution_count": 3,
   "id": "4e0266f4",
   "metadata": {},
   "outputs": [
    {
     "name": "stdout",
     "output_type": "stream",
     "text": [
      "Enter radius of a circle:2\n",
      "Area of the circle:  12.56\n"
     ]
    }
   ],
   "source": [
    "r = float(input('Enter radius of a circle:'))\n",
    "area = 3.14 * (r**2)\n",
    "print(\"Area of the circle: \",area)"
   ]
  },
  {
   "cell_type": "markdown",
   "id": "730e054b",
   "metadata": {},
   "source": [
    "# Problem 2"
   ]
  },
  {
   "cell_type": "code",
   "execution_count": 2,
   "id": "5108ee54",
   "metadata": {},
   "outputs": [
    {
     "name": "stdout",
     "output_type": "stream",
     "text": [
      "Enter a : 7\n",
      "Enter b : 10\n",
      "Enter c : 9\n",
      "10  is the largest\n"
     ]
    }
   ],
   "source": [
    "def largest(a,b,c):\n",
    "    if (a>b and a>c):\n",
    "        print(a,' is the largest')   \n",
    "    elif (b > a and b > c):\n",
    "        print(b,' is the largest')    \n",
    "    elif (c > a and c > b):\n",
    "        print(c,' is the largest')\n",
    "    else:\n",
    "        print('Equal')\n",
    "    \n",
    "a = int(input('Enter a : '))\n",
    "b = int(input('Enter b : '))\n",
    "c = int(input('Enter c : '))\n",
    "\n",
    "largest(a,b,c)\n",
    "\n"
   ]
  },
  {
   "cell_type": "markdown",
   "id": "18a89f92",
   "metadata": {},
   "source": [
    "# Problem 3"
   ]
  },
  {
   "cell_type": "code",
   "execution_count": 6,
   "id": "1f4390fd",
   "metadata": {},
   "outputs": [
    {
     "name": "stdout",
     "output_type": "stream",
     "text": [
      "Enter an alphabet string : abcde\n",
      "10001\n"
     ]
    }
   ],
   "source": [
    "def vowelto1(c,s):\n",
    "    if(c in ['a','e','i','o','u']):\n",
    "        s+='1'\n",
    "    else:\n",
    "        s+='0'\n",
    "    return s\n",
    "str = input(\"Enter an alphabet string : \")\n",
    "s = ''\n",
    "w=''\n",
    "str = str.lower()\n",
    "for i in str:\n",
    "    w += vowelto1(i,s)\n",
    "\n",
    "print(w)\n",
    "            "
   ]
  },
  {
   "cell_type": "markdown",
   "id": "2798caf5",
   "metadata": {},
   "source": [
    "# Problem 4"
   ]
  },
  {
   "cell_type": "code",
   "execution_count": 5,
   "id": "cce2daa4",
   "metadata": {},
   "outputs": [
    {
     "name": "stdout",
     "output_type": "stream",
     "text": [
      "Enter a : 5\n",
      "Enter b : 3\n",
      "Enter a Sign (+, -, *, /): /\n",
      "1.6666666666666667\n"
     ]
    }
   ],
   "source": [
    "def calculator(a,b,sign):\n",
    "    if(sign=='+'):\n",
    "        sum = a+b\n",
    "        return sum\n",
    "    elif(sign=='-'):\n",
    "        sub = a-b\n",
    "        return sub\n",
    "    elif(sign=='*'):\n",
    "        mul=a*b\n",
    "        return mul\n",
    "    elif(sign=='/'):\n",
    "        div = a/b\n",
    "        return div\n",
    "    else:\n",
    "        print('INVALID SIGN')\n",
    "        return 0\n",
    "\n",
    "a = float(input('Enter a : '))\n",
    "b = float(input('Enter b : '))\n",
    "sign = input('Enter a Sign (+, -, *, /): ')\n",
    "\n",
    "result = calculator(a,b,sign)\n",
    "print(result)\n"
   ]
  },
  {
   "cell_type": "markdown",
   "id": "401e2906",
   "metadata": {},
   "source": [
    "# Problem 5"
   ]
  },
  {
   "cell_type": "code",
   "execution_count": 7,
   "id": "ffa3ef40",
   "metadata": {},
   "outputs": [
    {
     "name": "stdout",
     "output_type": "stream",
     "text": [
      "Enter a string: xyz\n",
      "xyzxyz\n"
     ]
    }
   ],
   "source": [
    "str = input(\"Enter a string: \")\n",
    "print(str*2)\n"
   ]
  },
  {
   "cell_type": "markdown",
   "id": "6e040192",
   "metadata": {},
   "source": [
    "# Problem 6"
   ]
  },
  {
   "cell_type": "code",
   "execution_count": 77,
   "id": "5a7e0d7a",
   "metadata": {},
   "outputs": [
    {
     "name": "stdout",
     "output_type": "stream",
     "text": [
      "Requirement already satisfied: numpy in c:\\users\\sgsun\\appdata\\local\\programs\\python\\python310\\lib\\site-packages (1.24.2)\n"
     ]
    },
    {
     "name": "stderr",
     "output_type": "stream",
     "text": [
      "\n",
      "[notice] A new release of pip available: 22.3.1 -> 23.0.1\n",
      "[notice] To update, run: python.exe -m pip install --upgrade pip\n"
     ]
    }
   ],
   "source": [
    "!pip install numpy"
   ]
  },
  {
   "cell_type": "markdown",
   "id": "73a4cd3e",
   "metadata": {},
   "source": [
    "# use of filter()"
   ]
  },
  {
   "cell_type": "code",
   "execution_count": 9,
   "id": "48766286",
   "metadata": {},
   "outputs": [
    {
     "name": "stdout",
     "output_type": "stream",
     "text": [
      "['ux1P5' 'z1aP']\n"
     ]
    }
   ],
   "source": [
    "import numpy as np\n",
    "l = np.array([ \"ux1P5\", \"rt0\", \"ft3\", \"z1aP\" ])\n",
    "\n",
    "res = filter(lambda x:\"P\" in x, l)\n",
    "\n",
    "print(np.array(list(res)))\n"
   ]
  },
  {
   "cell_type": "markdown",
   "id": "9b690bea",
   "metadata": {},
   "source": [
    "# use of map()"
   ]
  },
  {
   "cell_type": "code",
   "execution_count": 10,
   "id": "32d2fa12",
   "metadata": {},
   "outputs": [
    {
     "name": "stdout",
     "output_type": "stream",
     "text": [
      "['ux1P5' 'rt0P' 'ft3P' 'z1aP']\n"
     ]
    }
   ],
   "source": [
    "import numpy as np\n",
    "\n",
    "\n",
    "def p_check(i):\n",
    "    if \"P\" in i:\n",
    "        return i\n",
    "    else:\n",
    "        return i+'P'\n",
    "    \n",
    "l = np.array([ \"ux1P5\", \"rt0\", \"ft3\", \"z1aP\" ])\n",
    "\n",
    "for i in l:\n",
    "    res = map(p_check, l)\n",
    "\n",
    "print(np.array(list(res)))"
   ]
  },
  {
   "cell_type": "markdown",
   "id": "0a612615",
   "metadata": {},
   "source": [
    "# use of reduce()"
   ]
  },
  {
   "cell_type": "code",
   "execution_count": 14,
   "id": "ea899dec",
   "metadata": {},
   "outputs": [
    {
     "name": "stdout",
     "output_type": "stream",
     "text": [
      "Enter number of inputs : 4\n",
      "1\n",
      "2\n",
      "3\n",
      "4\n",
      "The numbers in a  list: [1, 2, 3, 4]\n",
      "Sum is:  10\n"
     ]
    }
   ],
   "source": [
    "from functools import reduce \n",
    "q = int(input('Enter number of inputs : '))\n",
    "count = 0\n",
    "l = []\n",
    "while count<q: \n",
    "    l.append(int(input()))\n",
    "    count+=1\n",
    "\n",
    "print(\"The numbers in a  list:\",l)\n",
    "\n",
    "for i in l:\n",
    "    res =  reduce(lambda a,b: a+b,l)\n",
    "\n",
    "print('Sum is: ',res)\n"
   ]
  },
  {
   "cell_type": "code",
   "execution_count": null,
   "id": "f40cd5f9",
   "metadata": {},
   "outputs": [],
   "source": []
  }
 ],
 "metadata": {
  "kernelspec": {
   "display_name": "Python 3 (ipykernel)",
   "language": "python",
   "name": "python3"
  },
  "language_info": {
   "codemirror_mode": {
    "name": "ipython",
    "version": 3
   },
   "file_extension": ".py",
   "mimetype": "text/x-python",
   "name": "python",
   "nbconvert_exporter": "python",
   "pygments_lexer": "ipython3",
   "version": "3.10.10"
  }
 },
 "nbformat": 4,
 "nbformat_minor": 5
}
