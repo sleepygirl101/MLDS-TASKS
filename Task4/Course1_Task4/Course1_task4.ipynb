{
 "cells": [
  {
   "cell_type": "markdown",
   "id": "7e71e4f0",
   "metadata": {},
   "source": [
    "### 1.Reverse a list "
   ]
  },
  {
   "cell_type": "code",
   "execution_count": 1,
   "id": "0f393d03",
   "metadata": {},
   "outputs": [
    {
     "name": "stdout",
     "output_type": "stream",
     "text": [
      "[4, 3, 2, 1]\n"
     ]
    }
   ],
   "source": [
    "l = [1,2,3,4]\n",
    "\n",
    "print(l[::-1])"
   ]
  },
  {
   "cell_type": "markdown",
   "id": "0a9d9439",
   "metadata": {},
   "source": [
    "### 2.Concatenate two lists index-wise"
   ]
  },
  {
   "cell_type": "code",
   "execution_count": 3,
   "id": "4ccf814c",
   "metadata": {
    "scrolled": true
   },
   "outputs": [
    {
     "name": "stdout",
     "output_type": "stream",
     "text": [
      "['We', 'will', 'Dream', 'big']\n"
     ]
    }
   ],
   "source": [
    "list1 = [\"W\", \"wi\", \"Dre\", \"b\"]\n",
    "list2 = [\"e\", \"ll\", \"am\", \"ig\"]\n",
    "l = []\n",
    "for i in range(len(list1)):\n",
    "    l.append(list1[i] + list2[i])\n",
    "print(l)"
   ]
  },
  {
   "cell_type": "markdown",
   "id": "b09d3ee9",
   "metadata": {},
   "source": [
    "### 3.Turn every number of a list into its square"
   ]
  },
  {
   "cell_type": "code",
   "execution_count": 4,
   "id": "d08be467",
   "metadata": {
    "scrolled": true
   },
   "outputs": [
    {
     "data": {
      "text/plain": [
       "[4, 16, 25, 100]"
      ]
     },
     "execution_count": 4,
     "metadata": {},
     "output_type": "execute_result"
    }
   ],
   "source": [
    "l = [2,4,5,10]\n",
    "l_sq = []\n",
    "\n",
    "for i in range(len(l)):\n",
    "    l_sq.append(l[i] ** 2)\n",
    "l_sq"
   ]
  },
  {
   "cell_type": "markdown",
   "id": "1eba69c1",
   "metadata": {},
   "source": [
    "### 4.Remove empty strings from the list of strings"
   ]
  },
  {
   "cell_type": "code",
   "execution_count": 8,
   "id": "cefb1bb9",
   "metadata": {
    "scrolled": true
   },
   "outputs": [
    {
     "name": "stdout",
     "output_type": "stream",
     "text": [
      "['Code', 'Studio', 'Academy']\n"
     ]
    }
   ],
   "source": [
    "l = [\"Code\", \"\", \"Studio\", \"Academy\", \"\"]\n",
    "l = list(filter(lambda x: len(x) > 0, l))\n",
    "print(l)"
   ]
  },
  {
   "cell_type": "markdown",
   "id": "8e761f05",
   "metadata": {},
   "source": [
    "### 5.Add a list of elements to a set "
   ]
  },
  {
   "cell_type": "code",
   "execution_count": 10,
   "id": "fe7efc72",
   "metadata": {},
   "outputs": [
    {
     "name": "stdout",
     "output_type": "stream",
     "text": [
      "{'Orange', 'Black', 'Yellow', 'Green', 'Blue', 'Red'}\n"
     ]
    }
   ],
   "source": [
    "set_ = {\"Yellow\", \"Orange\", \"Black\"} \n",
    "list_ = [\"Blue\", \"Green\", \"Red\"]\n",
    "\n",
    "set_.update(list_)\n",
    "\n",
    "print(set_)"
   ]
  },
  {
   "cell_type": "markdown",
   "id": "0aca81bd",
   "metadata": {},
   "source": [
    "### 6.Return a set of elements present in Set A or B, but not both"
   ]
  },
  {
   "cell_type": "code",
   "execution_count": 11,
   "id": "151c1102",
   "metadata": {},
   "outputs": [
    {
     "name": "stdout",
     "output_type": "stream",
     "text": [
      "{3, 4, 5, 6}\n"
     ]
    }
   ],
   "source": [
    "setA = {1,2,3,4}\n",
    "setB = {1,2,5,6}\n",
    "\n",
    "print(setA ^ setB)"
   ]
  },
  {
   "cell_type": "markdown",
   "id": "d0fc8dd2",
   "metadata": {},
   "source": [
    "### 7.Convert two lists into a dictionary"
   ]
  },
  {
   "cell_type": "code",
   "execution_count": 12,
   "id": "f264c817",
   "metadata": {},
   "outputs": [
    {
     "name": "stdout",
     "output_type": "stream",
     "text": [
      "{'Name': 'Sunayana', 'Institution': 'RUET', 'Subject': 'CSE', 'Series': '18'}\n"
     ]
    }
   ],
   "source": [
    "key = ['Name', 'Institution', 'Subject', 'Series']\n",
    "vlu = ['Sunayana', 'RUET', 'CSE', '18']\n",
    "\n",
    "d = dict(zip(key,vlu))\n",
    "\n",
    "print(d)"
   ]
  },
  {
   "cell_type": "markdown",
   "id": "2a9e5f5d",
   "metadata": {},
   "source": [
    "### 8.Merge two Python dictionaries into one"
   ]
  },
  {
   "cell_type": "code",
   "execution_count": 13,
   "id": "d5e8f9e4",
   "metadata": {},
   "outputs": [
    {
     "name": "stdout",
     "output_type": "stream",
     "text": [
      "{'Ten': 10, 'Twenty': 20, 'Thirty': 30, 'Fourty': 40, 'Fifty': 50}\n"
     ]
    }
   ],
   "source": [
    "dict1 = {'Ten': 10, 'Twenty': 20, 'Thirty': 30} \n",
    "dict2 = {'Thirty': 30, 'Fourty': 40, 'Fifty': 50}\n",
    "dict1.update(dict2)\n",
    "print(dict1)"
   ]
  },
  {
   "cell_type": "markdown",
   "id": "15997097",
   "metadata": {},
   "source": [
    "### 9.Rename a key of a dictionary."
   ]
  },
  {
   "cell_type": "code",
   "execution_count": 15,
   "id": "1f93f58f",
   "metadata": {},
   "outputs": [
    {
     "name": "stdout",
     "output_type": "stream",
     "text": [
      "{'Ball': 2, 'Cat': 3, 'Apple': 1}\n"
     ]
    }
   ],
   "source": [
    "dict1 = {'Ant': 1, 'Ball': 2, 'Cat': 3}\n",
    "\n",
    "dict1['Apple'] = dict1.pop('Ant')\n",
    "\n",
    "print(dict1)"
   ]
  },
  {
   "cell_type": "markdown",
   "id": "8eb28bda",
   "metadata": {},
   "source": [
    "### 10.Sort a tuple of tuples by 2nd item"
   ]
  },
  {
   "cell_type": "code",
   "execution_count": 5,
   "id": "965ad90c",
   "metadata": {},
   "outputs": [
    {
     "name": "stdout",
     "output_type": "stream",
     "text": [
      "[(2, 20), (3, 30), (1, 50)]\n"
     ]
    }
   ],
   "source": [
    "tup_of_tuples = ((1, 50), (2, 20),  (3, 30))\n",
    "sorted_list = sorted(tup_of_tuples, key=lambda x: x[1])\n",
    "\n",
    "print(sorted_list) "
   ]
  }
 ],
 "metadata": {
  "kernelspec": {
   "display_name": "Python 3 (ipykernel)",
   "language": "python",
   "name": "python3"
  },
  "language_info": {
   "codemirror_mode": {
    "name": "ipython",
    "version": 3
   },
   "file_extension": ".py",
   "mimetype": "text/x-python",
   "name": "python",
   "nbconvert_exporter": "python",
   "pygments_lexer": "ipython3",
   "version": "3.10.10"
  }
 },
 "nbformat": 4,
 "nbformat_minor": 5
}
